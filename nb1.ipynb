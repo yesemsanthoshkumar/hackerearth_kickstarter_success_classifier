{
 "cells": [
  {
   "cell_type": "code",
   "execution_count": 1,
   "metadata": {
    "collapsed": false
   },
   "outputs": [],
   "source": [
    "from datetime import datetime\n",
    "import numpy as np\n",
    "import pandas as pd\n",
    "import matplotlib.pyplot as mplt\n",
    "%matplotlib inline\n",
    "import seaborn as sns"
   ]
  },
  {
   "cell_type": "code",
   "execution_count": 5,
   "metadata": {
    "collapsed": true
   },
   "outputs": [],
   "source": [
    "df = pd.read_csv(\"train.csv\")"
   ]
  },
  {
   "cell_type": "code",
   "execution_count": 6,
   "metadata": {
    "collapsed": false
   },
   "outputs": [
    {
     "data": {
      "text/plain": [
       "(108129, 14)"
      ]
     },
     "execution_count": 6,
     "metadata": {},
     "output_type": "execute_result"
    }
   ],
   "source": [
    "df.shape"
   ]
  },
  {
   "cell_type": "code",
   "execution_count": 7,
   "metadata": {
    "collapsed": false
   },
   "outputs": [
    {
     "data": {
      "text/html": [
       "<div>\n",
       "<style scoped>\n",
       "    .dataframe tbody tr th:only-of-type {\n",
       "        vertical-align: middle;\n",
       "    }\n",
       "\n",
       "    .dataframe tbody tr th {\n",
       "        vertical-align: top;\n",
       "    }\n",
       "\n",
       "    .dataframe thead th {\n",
       "        text-align: right;\n",
       "    }\n",
       "</style>\n",
       "<table border=\"1\" class=\"dataframe\">\n",
       "  <thead>\n",
       "    <tr style=\"text-align: right;\">\n",
       "      <th></th>\n",
       "      <th>project_id</th>\n",
       "      <th>name</th>\n",
       "      <th>desc</th>\n",
       "      <th>goal</th>\n",
       "      <th>keywords</th>\n",
       "      <th>disable_communication</th>\n",
       "      <th>country</th>\n",
       "      <th>currency</th>\n",
       "      <th>deadline</th>\n",
       "      <th>state_changed_at</th>\n",
       "      <th>created_at</th>\n",
       "      <th>launched_at</th>\n",
       "      <th>backers_count</th>\n",
       "      <th>final_status</th>\n",
       "    </tr>\n",
       "  </thead>\n",
       "  <tbody>\n",
       "    <tr>\n",
       "      <th>0</th>\n",
       "      <td>kkst1451568084</td>\n",
       "      <td>drawing for dollars</td>\n",
       "      <td>I like drawing pictures. and then i color them...</td>\n",
       "      <td>20.0</td>\n",
       "      <td>drawing-for-dollars</td>\n",
       "      <td>False</td>\n",
       "      <td>US</td>\n",
       "      <td>USD</td>\n",
       "      <td>1241333999</td>\n",
       "      <td>1241334017</td>\n",
       "      <td>1240600507</td>\n",
       "      <td>1240602723</td>\n",
       "      <td>3</td>\n",
       "      <td>1</td>\n",
       "    </tr>\n",
       "    <tr>\n",
       "      <th>1</th>\n",
       "      <td>kkst1474482071</td>\n",
       "      <td>Sponsor Dereck Blackburn (Lostwars) Artist in ...</td>\n",
       "      <td>I, Dereck Blackburn will be taking upon an inc...</td>\n",
       "      <td>300.0</td>\n",
       "      <td>sponsor-dereck-blackburn-lostwars-artist-in-re...</td>\n",
       "      <td>False</td>\n",
       "      <td>US</td>\n",
       "      <td>USD</td>\n",
       "      <td>1242429000</td>\n",
       "      <td>1242432018</td>\n",
       "      <td>1240960224</td>\n",
       "      <td>1240975592</td>\n",
       "      <td>2</td>\n",
       "      <td>0</td>\n",
       "    </tr>\n",
       "    <tr>\n",
       "      <th>2</th>\n",
       "      <td>kkst183622197</td>\n",
       "      <td>Mr. Squiggles</td>\n",
       "      <td>So I saw darkpony's successfully funded drawin...</td>\n",
       "      <td>30.0</td>\n",
       "      <td>mr-squiggles</td>\n",
       "      <td>False</td>\n",
       "      <td>US</td>\n",
       "      <td>USD</td>\n",
       "      <td>1243027560</td>\n",
       "      <td>1243027818</td>\n",
       "      <td>1242163613</td>\n",
       "      <td>1242164398</td>\n",
       "      <td>0</td>\n",
       "      <td>0</td>\n",
       "    </tr>\n",
       "  </tbody>\n",
       "</table>\n",
       "</div>"
      ],
      "text/plain": [
       "       project_id                                               name  \\\n",
       "0  kkst1451568084                                drawing for dollars   \n",
       "1  kkst1474482071  Sponsor Dereck Blackburn (Lostwars) Artist in ...   \n",
       "2   kkst183622197                                      Mr. Squiggles   \n",
       "\n",
       "                                                desc   goal  \\\n",
       "0  I like drawing pictures. and then i color them...   20.0   \n",
       "1  I, Dereck Blackburn will be taking upon an inc...  300.0   \n",
       "2  So I saw darkpony's successfully funded drawin...   30.0   \n",
       "\n",
       "                                            keywords  disable_communication  \\\n",
       "0                                drawing-for-dollars                  False   \n",
       "1  sponsor-dereck-blackburn-lostwars-artist-in-re...                  False   \n",
       "2                                       mr-squiggles                  False   \n",
       "\n",
       "  country currency    deadline  state_changed_at  created_at  launched_at  \\\n",
       "0      US      USD  1241333999        1241334017  1240600507   1240602723   \n",
       "1      US      USD  1242429000        1242432018  1240960224   1240975592   \n",
       "2      US      USD  1243027560        1243027818  1242163613   1242164398   \n",
       "\n",
       "   backers_count  final_status  \n",
       "0              3             1  \n",
       "1              2             0  \n",
       "2              0             0  "
      ]
     },
     "execution_count": 7,
     "metadata": {},
     "output_type": "execute_result"
    }
   ],
   "source": [
    "df.head(3)"
   ]
  },
  {
   "cell_type": "code",
   "execution_count": 8,
   "metadata": {
    "collapsed": false
   },
   "outputs": [],
   "source": [
    "df.created_at = pd.to_datetime(df.created_at, unit='s')\n",
    "df.deadline = pd.to_datetime(df.deadline, unit='s')\n",
    "df.launched_at = pd.to_datetime(df.launched_at, unit='s')\n",
    "df.state_changed_at = pd.to_datetime(df.state_changed_at, unit='s')"
   ]
  },
  {
   "cell_type": "code",
   "execution_count": 9,
   "metadata": {
    "collapsed": false
   },
   "outputs": [],
   "source": [
    "df['time_to_state_change'] = (df.state_changed_at - df.created_at).dt.days\n",
    "df['time_to_launch'] = (df.launched_at - df.created_at).dt.days\n",
    "df['launch_and_state_changed'] = (df.launched_at - df.state_changed_at).dt.days\n",
    "df['deadline_and_launched_at'] = (df.deadline - df.launched_at).dt.days\n",
    "df['deadline_and_state_changed_at'] = (df.deadline - df.state_changed_at).dt.days"
   ]
  },
  {
   "cell_type": "code",
   "execution_count": 10,
   "metadata": {
    "collapsed": false
   },
   "outputs": [
    {
     "name": "stdout",
     "output_type": "stream",
     "text": [
      "<class 'pandas.core.frame.DataFrame'>\n",
      "RangeIndex: 108129 entries, 0 to 108128\n",
      "Data columns (total 19 columns):\n",
      "project_id                       108129 non-null object\n",
      "name                             108126 non-null object\n",
      "desc                             108120 non-null object\n",
      "goal                             108129 non-null float64\n",
      "keywords                         108129 non-null object\n",
      "disable_communication            108129 non-null bool\n",
      "country                          108129 non-null object\n",
      "currency                         108129 non-null object\n",
      "deadline                         108129 non-null datetime64[ns]\n",
      "state_changed_at                 108129 non-null datetime64[ns]\n",
      "created_at                       108129 non-null datetime64[ns]\n",
      "launched_at                      108129 non-null datetime64[ns]\n",
      "backers_count                    108129 non-null int64\n",
      "final_status                     108129 non-null int64\n",
      "time_to_state_change             108129 non-null int64\n",
      "time_to_launch                   108129 non-null int64\n",
      "launch_and_state_changed         108129 non-null int64\n",
      "deadline_and_launched_at         108129 non-null int64\n",
      "deadline_and_state_changed_at    108129 non-null int64\n",
      "dtypes: bool(1), datetime64[ns](4), float64(1), int64(7), object(6)\n",
      "memory usage: 15.0+ MB\n"
     ]
    }
   ],
   "source": [
    "df.info()"
   ]
  },
  {
   "cell_type": "code",
   "execution_count": 11,
   "metadata": {
    "collapsed": false
   },
   "outputs": [],
   "source": [
    "df['name'] = df.name.fillna('').str.lower()\n",
    "df['desc'] = df.desc.fillna('').str.lower()\n",
    "df['keywords'] = df.keywords.str.lower()"
   ]
  },
  {
   "cell_type": "code",
   "execution_count": 12,
   "metadata": {
    "collapsed": true
   },
   "outputs": [],
   "source": [
    "df['state_mentioned_in_name'] = 0\n",
    "df.loc[\n",
    "    df.name.str.contains('\\(canceled|suspended|failed|successful\\)'),\n",
    "    'state_mentioned_in_name'\n",
    "] = 1"
   ]
  },
  {
   "cell_type": "code",
   "execution_count": 13,
   "metadata": {
    "collapsed": true
   },
   "outputs": [],
   "source": [
    "df.disable_communication = df.disable_communication.apply(lambda x: 1 if x else 0)"
   ]
  },
  {
   "cell_type": "code",
   "execution_count": 14,
   "metadata": {
    "collapsed": false
   },
   "outputs": [
    {
     "name": "stdout",
     "output_type": "stream",
     "text": [
      "<class 'pandas.core.frame.DataFrame'>\n",
      "RangeIndex: 108129 entries, 0 to 108128\n",
      "Data columns (total 20 columns):\n",
      "project_id                       108129 non-null object\n",
      "name                             108129 non-null object\n",
      "desc                             108129 non-null object\n",
      "goal                             108129 non-null float64\n",
      "keywords                         108129 non-null object\n",
      "disable_communication            108129 non-null int64\n",
      "country                          108129 non-null object\n",
      "currency                         108129 non-null object\n",
      "deadline                         108129 non-null datetime64[ns]\n",
      "state_changed_at                 108129 non-null datetime64[ns]\n",
      "created_at                       108129 non-null datetime64[ns]\n",
      "launched_at                      108129 non-null datetime64[ns]\n",
      "backers_count                    108129 non-null int64\n",
      "final_status                     108129 non-null int64\n",
      "time_to_state_change             108129 non-null int64\n",
      "time_to_launch                   108129 non-null int64\n",
      "launch_and_state_changed         108129 non-null int64\n",
      "deadline_and_launched_at         108129 non-null int64\n",
      "deadline_and_state_changed_at    108129 non-null int64\n",
      "state_mentioned_in_name          108129 non-null int64\n",
      "dtypes: datetime64[ns](4), float64(1), int64(9), object(6)\n",
      "memory usage: 16.5+ MB\n"
     ]
    }
   ],
   "source": [
    "df.info()"
   ]
  },
  {
   "cell_type": "code",
   "execution_count": 19,
   "metadata": {
    "collapsed": false
   },
   "outputs": [
    {
     "data": {
      "text/plain": [
       "array(['USD', 'GBP', 'CAD', 'AUD', 'NZD', 'EUR', 'SEK', 'NOK', 'DKK'],\n",
       "      dtype=object)"
      ]
     },
     "execution_count": 19,
     "metadata": {},
     "output_type": "execute_result"
    }
   ],
   "source": [
    "df.currency.unique()"
   ]
  },
  {
   "cell_type": "code",
   "execution_count": 16,
   "metadata": {
    "collapsed": true
   },
   "outputs": [],
   "source": [
    "currency_converter = {\n",
    "    'USD': 1, #US DOLLAR\n",
    "    'GBP': 1.38, #BRITISH POUND\n",
    "    'CAD': 0.78, #CANADAIAN DOLLAR\n",
    "    'AUD': 0.78, #AUSTRALIAN DOLLAR\n",
    "    'NZD': 0.72, #NEW ZEALAND DOLLAR\n",
    "    'EUR': 1.23, #EURO\n",
    "    'SEK': 0.12, #SWEDISH KRONA\n",
    "    'NOK': 0.13, #NORWEGIAN KRONE\n",
    "    'DKK': 0.17, #DANISH KRONE\n",
    "    'CHF': 1.07, #SWISS FRANC\n",
    "    'HKD': 0.13, #HONG KONG DOLLAR\n",
    "    'SGD': 0.76, #SINGAPORE DOLLAR\n",
    "    'MXN': 0.053 #MEXICAN PESO\n",
    "}"
   ]
  },
  {
   "cell_type": "code",
   "execution_count": 17,
   "metadata": {
    "collapsed": true
   },
   "outputs": [],
   "source": [
    "def convert_curr(curr, val):\n",
    "    return currency_converter[curr] * val"
   ]
  },
  {
   "cell_type": "code",
   "execution_count": 18,
   "metadata": {
    "collapsed": false
   },
   "outputs": [],
   "source": [
    "df['converted_curr'] = df.apply(lambda x: convert_curr(x['currency'], x['goal']), axis=1)\n",
    "# df.converted_curr"
   ]
  },
  {
   "cell_type": "code",
   "execution_count": 20,
   "metadata": {
    "collapsed": true
   },
   "outputs": [],
   "source": [
    "cnt_grp = {\n",
    "    'CA': 0, 'US': 0, 'MX': 0,\n",
    "    'IE': 1, 'NL': 1, 'FR': 1, 'BE': 1, 'ES': 1, 'DE': 1, 'AT': 1, 'LU': 1, 'DK': 1, 'CH': 1,\n",
    "    'IT': 1, 'GB': 1, 'NO': 1, 'SE': 1,\n",
    "    'SG': 2, 'HK': 2,\n",
    "    'AU': 3, 'NZ': 3\n",
    "}"
   ]
  },
  {
   "cell_type": "code",
   "execution_count": 22,
   "metadata": {
    "collapsed": false
   },
   "outputs": [],
   "source": [
    "df['country_grp'] = df.country.apply(lambda x: 'G' + str(cnt_grp[x]))"
   ]
  },
  {
   "cell_type": "code",
   "execution_count": 23,
   "metadata": {
    "collapsed": false
   },
   "outputs": [],
   "source": [
    "df = pd.concat(\n",
    "    [\n",
    "        df,\n",
    "        pd.get_dummies(df.country_grp)\n",
    "    ],\n",
    "    axis=1\n",
    ")"
   ]
  },
  {
   "cell_type": "code",
   "execution_count": 24,
   "metadata": {
    "collapsed": true
   },
   "outputs": [],
   "source": [
    "columns_to_remove = [\n",
    "    'name',\n",
    "    'created_at',\n",
    "    'launched_at',\n",
    "    'deadline',\n",
    "    'state_changed_at',\n",
    "    'country',\n",
    "    'country_grp',\n",
    "    'currency'\n",
    "]"
   ]
  },
  {
   "cell_type": "code",
   "execution_count": null,
   "metadata": {
    "collapsed": true
   },
   "outputs": [],
   "source": []
  }
 ],
 "metadata": {
  "anaconda-cloud": {},
  "kernelspec": {
   "display_name": "Python [conda root]",
   "language": "python",
   "name": "conda-root-py"
  },
  "language_info": {
   "codemirror_mode": {
    "name": "ipython",
    "version": 3
   },
   "file_extension": ".py",
   "mimetype": "text/x-python",
   "name": "python",
   "nbconvert_exporter": "python",
   "pygments_lexer": "ipython3",
   "version": "3.5.2"
  }
 },
 "nbformat": 4,
 "nbformat_minor": 1
}
